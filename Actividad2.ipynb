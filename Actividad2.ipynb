# https://github.com/jcmoralest/ICESI_AalisisDatos1_PSmart/blob/main/Actividad2.ipynb

#1. Selección de Columnas:

#* Columna Score_Buro (Puntaje del Buró de Crédito): Es crucial porque indica la #probabilidad de que una persona cumpla con sus obligaciones crediticias.
#* Columna Deuda_Total (Monto Total de Deuda): Este valor refleja la magnitud de las #obligaciones financieras del individuo, lo cual puede influir en el riesgo de #incumplimiento.

#2. Análisis estadístico y gráfico univariado en Python

import pandas as pd
import matplotlib.pyplot as plt
import seaborn as sns

#Importamos datos 
df = pd.read_csv('datos_buro.csv') 

# Mostrar los primeros registros
df.head(1000)

	index	ID_Cliente	Score_Buro	Deuda_Total	Edad	Ingresos_Mensuales	Historial_Pagos
0	0	1	549	2699677	47	2165635	Regular
1	1	2	486	2462316	48	4171426	Buen
2	2	3	564	2029815	55	3350341	Buen
3	3	4	652	1676531	28	3297856	Regular
4	4	5	476	2349111	52	3054020	Buen
...	...	...	...	...	...	...	...
995	995	996	471	2535075	65	3563459	Buen
996	996	997	679	1986739	55	3791209	Buen
997	997	998	564	1559062	34	2491739	Buen
998	998	999	442	1918466	27	823418	Buen
999	999	1000	557	1627548	67	3741639	Regular
1000 rows × 7 columns


#Analisis univariado

#Score_buro

sns.histplot(df['Score_Buro'], bins=30, kde=True)
plt.title('Distribución del Puntaje del Buró')
plt.show()
print(df['Score_Buro'].describe())


count    1000.000000
mean      501.395000
std        97.800101
min       175.000000
25%       434.750000
50%       502.000000
75%       564.000000
max       850.000000
Name: Score_Buro, dtype: float64

#Deuda total

sns.boxplot(x=df['Deuda_Total'])
plt.title('Distribución del Monto Total de Deuda')
plt.show()
print(df['Deuda_Total'].describe())

count    1.000000e+03
mean     2.035418e+06
std      4.987272e+05
min      5.298050e+05
25%      1.696879e+06
50%      2.031538e+06
75%      2.364440e+06
max      3.596553e+06
Name: Deuda_Total, dtype: float64


#3. Conclusiones:

#El análisis del Score_Buro muestra que la mayoría de las personas con reporte #negativo tienen puntajes concentrados en los niveles bajos, lo que refuerza su #clasificación como de alto riesgo. Por otro lado, la Deuda_Total presenta una #distribución con valores extremos que pueden indicar la presencia de deudas #significativas en un subconjunto de la población. Esto sugiere que, además del #puntaje, el monto de la deuda podría ser un factor clave en la probabilidad de #reporte negativo en el buró de crédito.